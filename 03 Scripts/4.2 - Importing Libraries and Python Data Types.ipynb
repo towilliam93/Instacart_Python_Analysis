{
 "cells": [
  {
   "cell_type": "markdown",
   "id": "92b327b5",
   "metadata": {},
   "source": [
    "# 4.2 - Importing Libraries and Python Data Types"
   ]
  },
  {
   "cell_type": "markdown",
   "id": "f0c6cb52",
   "metadata": {},
   "source": [
    "##### Importing Libraries"
   ]
  },
  {
   "cell_type": "markdown",
   "id": "bd6d4348",
   "metadata": {},
   "source": [
    "##### Working with Python Data Types"
   ]
  },
  {
   "cell_type": "markdown",
   "id": "b822df41",
   "metadata": {},
   "source": [
    "### Importing Libraries"
   ]
  },
  {
   "cell_type": "code",
   "execution_count": null,
   "id": "77dc23e0",
   "metadata": {},
   "outputs": [],
   "source": [
    "# Import Libraries"
   ]
  },
  {
   "cell_type": "code",
   "execution_count": 1,
   "id": "f938457a",
   "metadata": {},
   "outputs": [],
   "source": [
    "import pandas as pd\n",
    "import numpy as np\n",
    "import os"
   ]
  },
  {
   "cell_type": "markdown",
   "id": "c45e9c03",
   "metadata": {},
   "source": [
    "### Working with Python Data types"
   ]
  },
  {
   "cell_type": "code",
   "execution_count": 2,
   "id": "8d17124f",
   "metadata": {},
   "outputs": [
    {
     "name": "stdout",
     "output_type": "stream",
     "text": [
      "100\n",
      "100\n",
      "100\n"
     ]
    }
   ],
   "source": [
    "# Reaching 100\n",
    "a = 25\n",
    "b = 4\n",
    "c = 125\n",
    "print(a+a+a+a)\n",
    "print(a*b)\n",
    "print(c-a)"
   ]
  },
  {
   "cell_type": "code",
   "execution_count": 3,
   "id": "af32fb82",
   "metadata": {},
   "outputs": [
    {
     "name": "stdout",
     "output_type": "stream",
     "text": [
      "3.7073170731707314\n"
     ]
    }
   ],
   "source": [
    "#Floating point variables\n",
    "d = 1.23\n",
    "e = 4.56\n",
    "print (e/d)"
   ]
  },
  {
   "cell_type": "code",
   "execution_count": null,
   "id": "10b94acf",
   "metadata": {},
   "outputs": [],
   "source": [
    "# Construct a short word"
   ]
  },
  {
   "cell_type": "code",
   "execution_count": 4,
   "id": "ddc35b1b",
   "metadata": {},
   "outputs": [
    {
     "name": "stdout",
     "output_type": "stream",
     "text": [
      "Hello\n"
     ]
    }
   ],
   "source": [
    "f = 'Hel'\n",
    "g = 'lo'\n",
    "print(f+g)"
   ]
  },
  {
   "cell_type": "code",
   "execution_count": null,
   "id": "404d6a42",
   "metadata": {},
   "outputs": [],
   "source": [
    "# Construct 2 short sentences"
   ]
  },
  {
   "cell_type": "code",
   "execution_count": 10,
   "id": "78cca25d",
   "metadata": {},
   "outputs": [
    {
     "name": "stdout",
     "output_type": "stream",
     "text": [
      "I am excited to start learning Python\n"
     ]
    }
   ],
   "source": [
    "h = 'I am excited '\n",
    "i = 'to start learning Python'\n",
    "print (h+i)"
   ]
  },
  {
   "cell_type": "code",
   "execution_count": 8,
   "id": "1d0160fd",
   "metadata": {},
   "outputs": [
    {
     "name": "stdout",
     "output_type": "stream",
     "text": [
      "This is another short sentence.\n"
     ]
    }
   ],
   "source": [
    "j = 'This is another '\n",
    "k = 'short sentence.'\n",
    "print (j+k)"
   ]
  }
 ],
 "metadata": {
  "kernelspec": {
   "display_name": "Python 3 (ipykernel)",
   "language": "python",
   "name": "python3"
  },
  "language_info": {
   "codemirror_mode": {
    "name": "ipython",
    "version": 3
   },
   "file_extension": ".py",
   "mimetype": "text/x-python",
   "name": "python",
   "nbconvert_exporter": "python",
   "pygments_lexer": "ipython3",
   "version": "3.9.13"
  }
 },
 "nbformat": 4,
 "nbformat_minor": 5
}
